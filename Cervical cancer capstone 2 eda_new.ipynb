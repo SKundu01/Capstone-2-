{
 "cells": [
  {
   "cell_type": "markdown",
   "id": "d883ea0b",
   "metadata": {},
   "source": [
    "# Classification of Cervical Cancer \n",
    "## Springboard Data Science Career Track\n",
    "## Capstone Project -I \n",
    "### EDA Notebook by Soumyadip Kundu\n",
    "### June 2022\n",
    "\n",
    "\n",
    "\n",
    "### Problem Statement: Assessing the risk factors for succesful detection of Cervical cancer\n",
    "\n",
    "\n",
    "### Data Source: Kaggle datasets"
   ]
  },
  {
   "cell_type": "code",
   "execution_count": 2,
   "id": "2ae4e3d1-4334-45f9-9b7c-048a09b7c0c4",
   "metadata": {},
   "outputs": [],
   "source": [
    "#Import libraries\n",
    "import numpy as np\n",
    "import pandas as pd\n",
    "pd.set_option(\"display.max_columns\", 999)\n",
    "import matplotlib.pyplot as plt\n",
    "from scipy import stats\n",
    "import seaborn as sns\n",
    "import warnings\n",
    "warnings.simplefilter(action=\"ignore\", category=FutureWarning)\n",
    "warnings.filterwarnings(action=\"ignore\", module=\"scipy\", message=\"^internal gelsd\")"
   ]
  },
  {
   "cell_type": "code",
   "execution_count": 3,
   "id": "a7e0b2a4-8f3b-4e6a-ad5d-139f333ed1d5",
   "metadata": {
    "scrolled": true
   },
   "outputs": [
    {
     "data": {
      "text/html": [
       "<div>\n",
       "<style scoped>\n",
       "    .dataframe tbody tr th:only-of-type {\n",
       "        vertical-align: middle;\n",
       "    }\n",
       "\n",
       "    .dataframe tbody tr th {\n",
       "        vertical-align: top;\n",
       "    }\n",
       "\n",
       "    .dataframe thead th {\n",
       "        text-align: right;\n",
       "    }\n",
       "</style>\n",
       "<table border=\"1\" class=\"dataframe\">\n",
       "  <thead>\n",
       "    <tr style=\"text-align: right;\">\n",
       "      <th></th>\n",
       "      <th>Unnamed: 0</th>\n",
       "      <th>Smokes</th>\n",
       "      <th>Hormonal Contraceptives</th>\n",
       "      <th>IUD</th>\n",
       "      <th>STDs</th>\n",
       "      <th>STDs:condylomatosis</th>\n",
       "      <th>STDs:vaginal condylomatosis</th>\n",
       "      <th>STDs:vulvo-perineal condylomatosis</th>\n",
       "      <th>STDs:syphilis</th>\n",
       "      <th>STDs:pelvic inflammatory disease</th>\n",
       "      <th>STDs:genital herpes</th>\n",
       "      <th>STDs:molluscum contagiosum</th>\n",
       "      <th>STDs:HIV</th>\n",
       "      <th>STDs:Hepatitis B</th>\n",
       "      <th>STDs:HPV</th>\n",
       "      <th>Dx:Cancer</th>\n",
       "      <th>Dx:CIN</th>\n",
       "      <th>Dx:HPV</th>\n",
       "      <th>Dx</th>\n",
       "      <th>Hinselmann</th>\n",
       "      <th>Schiller</th>\n",
       "      <th>Citology</th>\n",
       "      <th>Biopsy</th>\n",
       "      <th>Age</th>\n",
       "      <th>Number of sexual partners</th>\n",
       "      <th>First sexual intercourse</th>\n",
       "      <th>Num of pregnancies</th>\n",
       "      <th>Smokes (years)</th>\n",
       "      <th>Smokes (packs/year)</th>\n",
       "      <th>Hormonal Contraceptives (years)</th>\n",
       "      <th>IUD (years)</th>\n",
       "      <th>STDs (number)</th>\n",
       "      <th>STDs: Number of diagnosis</th>\n",
       "    </tr>\n",
       "  </thead>\n",
       "  <tbody>\n",
       "    <tr>\n",
       "      <th>0</th>\n",
       "      <td>0</td>\n",
       "      <td>0.0</td>\n",
       "      <td>0.0</td>\n",
       "      <td>0.0</td>\n",
       "      <td>0.0</td>\n",
       "      <td>0.0</td>\n",
       "      <td>0.0</td>\n",
       "      <td>0.0</td>\n",
       "      <td>0.0</td>\n",
       "      <td>0.0</td>\n",
       "      <td>0.0</td>\n",
       "      <td>0.0</td>\n",
       "      <td>0.0</td>\n",
       "      <td>0.0</td>\n",
       "      <td>0.0</td>\n",
       "      <td>0.0</td>\n",
       "      <td>0.0</td>\n",
       "      <td>0.0</td>\n",
       "      <td>0.0</td>\n",
       "      <td>0.0</td>\n",
       "      <td>0.0</td>\n",
       "      <td>0.0</td>\n",
       "      <td>0.0</td>\n",
       "      <td>18.0</td>\n",
       "      <td>4.0</td>\n",
       "      <td>15.0</td>\n",
       "      <td>1.0</td>\n",
       "      <td>0.0</td>\n",
       "      <td>0.0</td>\n",
       "      <td>0.0</td>\n",
       "      <td>0.0</td>\n",
       "      <td>0.0</td>\n",
       "      <td>0.0</td>\n",
       "    </tr>\n",
       "    <tr>\n",
       "      <th>1</th>\n",
       "      <td>1</td>\n",
       "      <td>0.0</td>\n",
       "      <td>0.0</td>\n",
       "      <td>0.0</td>\n",
       "      <td>0.0</td>\n",
       "      <td>0.0</td>\n",
       "      <td>0.0</td>\n",
       "      <td>0.0</td>\n",
       "      <td>0.0</td>\n",
       "      <td>0.0</td>\n",
       "      <td>0.0</td>\n",
       "      <td>0.0</td>\n",
       "      <td>0.0</td>\n",
       "      <td>0.0</td>\n",
       "      <td>0.0</td>\n",
       "      <td>0.0</td>\n",
       "      <td>0.0</td>\n",
       "      <td>0.0</td>\n",
       "      <td>0.0</td>\n",
       "      <td>0.0</td>\n",
       "      <td>0.0</td>\n",
       "      <td>0.0</td>\n",
       "      <td>0.0</td>\n",
       "      <td>15.0</td>\n",
       "      <td>1.0</td>\n",
       "      <td>14.0</td>\n",
       "      <td>1.0</td>\n",
       "      <td>0.0</td>\n",
       "      <td>0.0</td>\n",
       "      <td>0.0</td>\n",
       "      <td>0.0</td>\n",
       "      <td>0.0</td>\n",
       "      <td>0.0</td>\n",
       "    </tr>\n",
       "    <tr>\n",
       "      <th>2</th>\n",
       "      <td>2</td>\n",
       "      <td>0.0</td>\n",
       "      <td>0.0</td>\n",
       "      <td>0.0</td>\n",
       "      <td>0.0</td>\n",
       "      <td>0.0</td>\n",
       "      <td>0.0</td>\n",
       "      <td>0.0</td>\n",
       "      <td>0.0</td>\n",
       "      <td>0.0</td>\n",
       "      <td>0.0</td>\n",
       "      <td>0.0</td>\n",
       "      <td>0.0</td>\n",
       "      <td>0.0</td>\n",
       "      <td>0.0</td>\n",
       "      <td>0.0</td>\n",
       "      <td>0.0</td>\n",
       "      <td>0.0</td>\n",
       "      <td>0.0</td>\n",
       "      <td>0.0</td>\n",
       "      <td>0.0</td>\n",
       "      <td>0.0</td>\n",
       "      <td>0.0</td>\n",
       "      <td>34.0</td>\n",
       "      <td>1.0</td>\n",
       "      <td>17.0</td>\n",
       "      <td>1.0</td>\n",
       "      <td>0.0</td>\n",
       "      <td>0.0</td>\n",
       "      <td>0.0</td>\n",
       "      <td>0.0</td>\n",
       "      <td>0.0</td>\n",
       "      <td>0.0</td>\n",
       "    </tr>\n",
       "    <tr>\n",
       "      <th>3</th>\n",
       "      <td>3</td>\n",
       "      <td>1.0</td>\n",
       "      <td>1.0</td>\n",
       "      <td>0.0</td>\n",
       "      <td>0.0</td>\n",
       "      <td>0.0</td>\n",
       "      <td>0.0</td>\n",
       "      <td>0.0</td>\n",
       "      <td>0.0</td>\n",
       "      <td>0.0</td>\n",
       "      <td>0.0</td>\n",
       "      <td>0.0</td>\n",
       "      <td>0.0</td>\n",
       "      <td>0.0</td>\n",
       "      <td>0.0</td>\n",
       "      <td>1.0</td>\n",
       "      <td>0.0</td>\n",
       "      <td>1.0</td>\n",
       "      <td>0.0</td>\n",
       "      <td>0.0</td>\n",
       "      <td>0.0</td>\n",
       "      <td>0.0</td>\n",
       "      <td>0.0</td>\n",
       "      <td>52.0</td>\n",
       "      <td>5.0</td>\n",
       "      <td>16.0</td>\n",
       "      <td>4.0</td>\n",
       "      <td>37.0</td>\n",
       "      <td>37.0</td>\n",
       "      <td>3.0</td>\n",
       "      <td>0.0</td>\n",
       "      <td>0.0</td>\n",
       "      <td>0.0</td>\n",
       "    </tr>\n",
       "    <tr>\n",
       "      <th>4</th>\n",
       "      <td>4</td>\n",
       "      <td>0.0</td>\n",
       "      <td>1.0</td>\n",
       "      <td>0.0</td>\n",
       "      <td>0.0</td>\n",
       "      <td>0.0</td>\n",
       "      <td>0.0</td>\n",
       "      <td>0.0</td>\n",
       "      <td>0.0</td>\n",
       "      <td>0.0</td>\n",
       "      <td>0.0</td>\n",
       "      <td>0.0</td>\n",
       "      <td>0.0</td>\n",
       "      <td>0.0</td>\n",
       "      <td>0.0</td>\n",
       "      <td>0.0</td>\n",
       "      <td>0.0</td>\n",
       "      <td>0.0</td>\n",
       "      <td>0.0</td>\n",
       "      <td>0.0</td>\n",
       "      <td>0.0</td>\n",
       "      <td>0.0</td>\n",
       "      <td>0.0</td>\n",
       "      <td>46.0</td>\n",
       "      <td>3.0</td>\n",
       "      <td>21.0</td>\n",
       "      <td>4.0</td>\n",
       "      <td>0.0</td>\n",
       "      <td>0.0</td>\n",
       "      <td>15.0</td>\n",
       "      <td>0.0</td>\n",
       "      <td>0.0</td>\n",
       "      <td>0.0</td>\n",
       "    </tr>\n",
       "  </tbody>\n",
       "</table>\n",
       "</div>"
      ],
      "text/plain": [
       "   Unnamed: 0  Smokes  Hormonal Contraceptives  IUD  STDs  \\\n",
       "0           0     0.0                      0.0  0.0   0.0   \n",
       "1           1     0.0                      0.0  0.0   0.0   \n",
       "2           2     0.0                      0.0  0.0   0.0   \n",
       "3           3     1.0                      1.0  0.0   0.0   \n",
       "4           4     0.0                      1.0  0.0   0.0   \n",
       "\n",
       "   STDs:condylomatosis  STDs:vaginal condylomatosis  \\\n",
       "0                  0.0                          0.0   \n",
       "1                  0.0                          0.0   \n",
       "2                  0.0                          0.0   \n",
       "3                  0.0                          0.0   \n",
       "4                  0.0                          0.0   \n",
       "\n",
       "   STDs:vulvo-perineal condylomatosis  STDs:syphilis  \\\n",
       "0                                 0.0            0.0   \n",
       "1                                 0.0            0.0   \n",
       "2                                 0.0            0.0   \n",
       "3                                 0.0            0.0   \n",
       "4                                 0.0            0.0   \n",
       "\n",
       "   STDs:pelvic inflammatory disease  STDs:genital herpes  \\\n",
       "0                               0.0                  0.0   \n",
       "1                               0.0                  0.0   \n",
       "2                               0.0                  0.0   \n",
       "3                               0.0                  0.0   \n",
       "4                               0.0                  0.0   \n",
       "\n",
       "   STDs:molluscum contagiosum  STDs:HIV  STDs:Hepatitis B  STDs:HPV  \\\n",
       "0                         0.0       0.0               0.0       0.0   \n",
       "1                         0.0       0.0               0.0       0.0   \n",
       "2                         0.0       0.0               0.0       0.0   \n",
       "3                         0.0       0.0               0.0       0.0   \n",
       "4                         0.0       0.0               0.0       0.0   \n",
       "\n",
       "   Dx:Cancer  Dx:CIN  Dx:HPV   Dx  Hinselmann  Schiller  Citology  Biopsy  \\\n",
       "0        0.0     0.0     0.0  0.0         0.0       0.0       0.0     0.0   \n",
       "1        0.0     0.0     0.0  0.0         0.0       0.0       0.0     0.0   \n",
       "2        0.0     0.0     0.0  0.0         0.0       0.0       0.0     0.0   \n",
       "3        1.0     0.0     1.0  0.0         0.0       0.0       0.0     0.0   \n",
       "4        0.0     0.0     0.0  0.0         0.0       0.0       0.0     0.0   \n",
       "\n",
       "    Age  Number of sexual partners  First sexual intercourse  \\\n",
       "0  18.0                        4.0                      15.0   \n",
       "1  15.0                        1.0                      14.0   \n",
       "2  34.0                        1.0                      17.0   \n",
       "3  52.0                        5.0                      16.0   \n",
       "4  46.0                        3.0                      21.0   \n",
       "\n",
       "   Num of pregnancies  Smokes (years)  Smokes (packs/year)  \\\n",
       "0                 1.0             0.0                  0.0   \n",
       "1                 1.0             0.0                  0.0   \n",
       "2                 1.0             0.0                  0.0   \n",
       "3                 4.0            37.0                 37.0   \n",
       "4                 4.0             0.0                  0.0   \n",
       "\n",
       "   Hormonal Contraceptives (years)  IUD (years)  STDs (number)  \\\n",
       "0                              0.0          0.0            0.0   \n",
       "1                              0.0          0.0            0.0   \n",
       "2                              0.0          0.0            0.0   \n",
       "3                              3.0          0.0            0.0   \n",
       "4                             15.0          0.0            0.0   \n",
       "\n",
       "   STDs: Number of diagnosis  \n",
       "0                        0.0  \n",
       "1                        0.0  \n",
       "2                        0.0  \n",
       "3                        0.0  \n",
       "4                        0.0  "
      ]
     },
     "execution_count": 3,
     "metadata": {},
     "output_type": "execute_result"
    }
   ],
   "source": [
    "df = pd.read_csv('Cervical_cancer_data_kag_cleaned.csv')\n",
    "df.head()"
   ]
  },
  {
   "cell_type": "code",
   "execution_count": 4,
   "id": "082bae59-110c-4bc0-916a-6ed5ad60b706",
   "metadata": {},
   "outputs": [
    {
     "data": {
      "text/plain": [
       "(763, 33)"
      ]
     },
     "execution_count": 4,
     "metadata": {},
     "output_type": "execute_result"
    }
   ],
   "source": [
    "df.shape"
   ]
  },
  {
   "cell_type": "code",
   "execution_count": 5,
   "id": "fe4fe53b-8fee-4eed-9ab1-cc3a91ca229f",
   "metadata": {},
   "outputs": [
    {
     "data": {
      "text/html": [
       "<div>\n",
       "<style scoped>\n",
       "    .dataframe tbody tr th:only-of-type {\n",
       "        vertical-align: middle;\n",
       "    }\n",
       "\n",
       "    .dataframe tbody tr th {\n",
       "        vertical-align: top;\n",
       "    }\n",
       "\n",
       "    .dataframe thead th {\n",
       "        text-align: right;\n",
       "    }\n",
       "</style>\n",
       "<table border=\"1\" class=\"dataframe\">\n",
       "  <thead>\n",
       "    <tr style=\"text-align: right;\">\n",
       "      <th></th>\n",
       "      <th>Unnamed: 0</th>\n",
       "      <th>Smokes</th>\n",
       "      <th>Hormonal Contraceptives</th>\n",
       "      <th>IUD</th>\n",
       "      <th>STDs</th>\n",
       "      <th>STDs:condylomatosis</th>\n",
       "      <th>STDs:vaginal condylomatosis</th>\n",
       "      <th>STDs:vulvo-perineal condylomatosis</th>\n",
       "      <th>STDs:syphilis</th>\n",
       "      <th>STDs:pelvic inflammatory disease</th>\n",
       "      <th>STDs:genital herpes</th>\n",
       "      <th>STDs:molluscum contagiosum</th>\n",
       "      <th>STDs:HIV</th>\n",
       "      <th>STDs:Hepatitis B</th>\n",
       "      <th>STDs:HPV</th>\n",
       "      <th>Dx:Cancer</th>\n",
       "      <th>Dx:CIN</th>\n",
       "      <th>Dx:HPV</th>\n",
       "      <th>Dx</th>\n",
       "      <th>Hinselmann</th>\n",
       "      <th>Schiller</th>\n",
       "      <th>Citology</th>\n",
       "      <th>Biopsy</th>\n",
       "      <th>Age</th>\n",
       "      <th>Number of sexual partners</th>\n",
       "      <th>First sexual intercourse</th>\n",
       "      <th>Num of pregnancies</th>\n",
       "      <th>Smokes (years)</th>\n",
       "      <th>Smokes (packs/year)</th>\n",
       "      <th>Hormonal Contraceptives (years)</th>\n",
       "      <th>IUD (years)</th>\n",
       "      <th>STDs (number)</th>\n",
       "      <th>STDs: Number of diagnosis</th>\n",
       "      <th>cancer</th>\n",
       "    </tr>\n",
       "  </thead>\n",
       "  <tbody>\n",
       "    <tr>\n",
       "      <th>0</th>\n",
       "      <td>0</td>\n",
       "      <td>0.0</td>\n",
       "      <td>0.0</td>\n",
       "      <td>0.0</td>\n",
       "      <td>0.0</td>\n",
       "      <td>0.0</td>\n",
       "      <td>0.0</td>\n",
       "      <td>0.0</td>\n",
       "      <td>0.0</td>\n",
       "      <td>0.0</td>\n",
       "      <td>0.0</td>\n",
       "      <td>0.0</td>\n",
       "      <td>0.0</td>\n",
       "      <td>0.0</td>\n",
       "      <td>0.0</td>\n",
       "      <td>0.0</td>\n",
       "      <td>0.0</td>\n",
       "      <td>0.0</td>\n",
       "      <td>0.0</td>\n",
       "      <td>0.0</td>\n",
       "      <td>0.0</td>\n",
       "      <td>0.0</td>\n",
       "      <td>0.0</td>\n",
       "      <td>18.0</td>\n",
       "      <td>4.0</td>\n",
       "      <td>15.0</td>\n",
       "      <td>1.0</td>\n",
       "      <td>0.0</td>\n",
       "      <td>0.0</td>\n",
       "      <td>0.0</td>\n",
       "      <td>0.0</td>\n",
       "      <td>0.0</td>\n",
       "      <td>0.0</td>\n",
       "      <td>0.0</td>\n",
       "    </tr>\n",
       "    <tr>\n",
       "      <th>1</th>\n",
       "      <td>1</td>\n",
       "      <td>0.0</td>\n",
       "      <td>0.0</td>\n",
       "      <td>0.0</td>\n",
       "      <td>0.0</td>\n",
       "      <td>0.0</td>\n",
       "      <td>0.0</td>\n",
       "      <td>0.0</td>\n",
       "      <td>0.0</td>\n",
       "      <td>0.0</td>\n",
       "      <td>0.0</td>\n",
       "      <td>0.0</td>\n",
       "      <td>0.0</td>\n",
       "      <td>0.0</td>\n",
       "      <td>0.0</td>\n",
       "      <td>0.0</td>\n",
       "      <td>0.0</td>\n",
       "      <td>0.0</td>\n",
       "      <td>0.0</td>\n",
       "      <td>0.0</td>\n",
       "      <td>0.0</td>\n",
       "      <td>0.0</td>\n",
       "      <td>0.0</td>\n",
       "      <td>15.0</td>\n",
       "      <td>1.0</td>\n",
       "      <td>14.0</td>\n",
       "      <td>1.0</td>\n",
       "      <td>0.0</td>\n",
       "      <td>0.0</td>\n",
       "      <td>0.0</td>\n",
       "      <td>0.0</td>\n",
       "      <td>0.0</td>\n",
       "      <td>0.0</td>\n",
       "      <td>0.0</td>\n",
       "    </tr>\n",
       "    <tr>\n",
       "      <th>2</th>\n",
       "      <td>2</td>\n",
       "      <td>0.0</td>\n",
       "      <td>0.0</td>\n",
       "      <td>0.0</td>\n",
       "      <td>0.0</td>\n",
       "      <td>0.0</td>\n",
       "      <td>0.0</td>\n",
       "      <td>0.0</td>\n",
       "      <td>0.0</td>\n",
       "      <td>0.0</td>\n",
       "      <td>0.0</td>\n",
       "      <td>0.0</td>\n",
       "      <td>0.0</td>\n",
       "      <td>0.0</td>\n",
       "      <td>0.0</td>\n",
       "      <td>0.0</td>\n",
       "      <td>0.0</td>\n",
       "      <td>0.0</td>\n",
       "      <td>0.0</td>\n",
       "      <td>0.0</td>\n",
       "      <td>0.0</td>\n",
       "      <td>0.0</td>\n",
       "      <td>0.0</td>\n",
       "      <td>34.0</td>\n",
       "      <td>1.0</td>\n",
       "      <td>17.0</td>\n",
       "      <td>1.0</td>\n",
       "      <td>0.0</td>\n",
       "      <td>0.0</td>\n",
       "      <td>0.0</td>\n",
       "      <td>0.0</td>\n",
       "      <td>0.0</td>\n",
       "      <td>0.0</td>\n",
       "      <td>0.0</td>\n",
       "    </tr>\n",
       "    <tr>\n",
       "      <th>3</th>\n",
       "      <td>3</td>\n",
       "      <td>1.0</td>\n",
       "      <td>1.0</td>\n",
       "      <td>0.0</td>\n",
       "      <td>0.0</td>\n",
       "      <td>0.0</td>\n",
       "      <td>0.0</td>\n",
       "      <td>0.0</td>\n",
       "      <td>0.0</td>\n",
       "      <td>0.0</td>\n",
       "      <td>0.0</td>\n",
       "      <td>0.0</td>\n",
       "      <td>0.0</td>\n",
       "      <td>0.0</td>\n",
       "      <td>0.0</td>\n",
       "      <td>1.0</td>\n",
       "      <td>0.0</td>\n",
       "      <td>1.0</td>\n",
       "      <td>0.0</td>\n",
       "      <td>0.0</td>\n",
       "      <td>0.0</td>\n",
       "      <td>0.0</td>\n",
       "      <td>0.0</td>\n",
       "      <td>52.0</td>\n",
       "      <td>5.0</td>\n",
       "      <td>16.0</td>\n",
       "      <td>4.0</td>\n",
       "      <td>37.0</td>\n",
       "      <td>37.0</td>\n",
       "      <td>3.0</td>\n",
       "      <td>0.0</td>\n",
       "      <td>0.0</td>\n",
       "      <td>0.0</td>\n",
       "      <td>0.0</td>\n",
       "    </tr>\n",
       "    <tr>\n",
       "      <th>4</th>\n",
       "      <td>4</td>\n",
       "      <td>0.0</td>\n",
       "      <td>1.0</td>\n",
       "      <td>0.0</td>\n",
       "      <td>0.0</td>\n",
       "      <td>0.0</td>\n",
       "      <td>0.0</td>\n",
       "      <td>0.0</td>\n",
       "      <td>0.0</td>\n",
       "      <td>0.0</td>\n",
       "      <td>0.0</td>\n",
       "      <td>0.0</td>\n",
       "      <td>0.0</td>\n",
       "      <td>0.0</td>\n",
       "      <td>0.0</td>\n",
       "      <td>0.0</td>\n",
       "      <td>0.0</td>\n",
       "      <td>0.0</td>\n",
       "      <td>0.0</td>\n",
       "      <td>0.0</td>\n",
       "      <td>0.0</td>\n",
       "      <td>0.0</td>\n",
       "      <td>0.0</td>\n",
       "      <td>46.0</td>\n",
       "      <td>3.0</td>\n",
       "      <td>21.0</td>\n",
       "      <td>4.0</td>\n",
       "      <td>0.0</td>\n",
       "      <td>0.0</td>\n",
       "      <td>15.0</td>\n",
       "      <td>0.0</td>\n",
       "      <td>0.0</td>\n",
       "      <td>0.0</td>\n",
       "      <td>0.0</td>\n",
       "    </tr>\n",
       "  </tbody>\n",
       "</table>\n",
       "</div>"
      ],
      "text/plain": [
       "   Unnamed: 0  Smokes  Hormonal Contraceptives  IUD  STDs  \\\n",
       "0           0     0.0                      0.0  0.0   0.0   \n",
       "1           1     0.0                      0.0  0.0   0.0   \n",
       "2           2     0.0                      0.0  0.0   0.0   \n",
       "3           3     1.0                      1.0  0.0   0.0   \n",
       "4           4     0.0                      1.0  0.0   0.0   \n",
       "\n",
       "   STDs:condylomatosis  STDs:vaginal condylomatosis  \\\n",
       "0                  0.0                          0.0   \n",
       "1                  0.0                          0.0   \n",
       "2                  0.0                          0.0   \n",
       "3                  0.0                          0.0   \n",
       "4                  0.0                          0.0   \n",
       "\n",
       "   STDs:vulvo-perineal condylomatosis  STDs:syphilis  \\\n",
       "0                                 0.0            0.0   \n",
       "1                                 0.0            0.0   \n",
       "2                                 0.0            0.0   \n",
       "3                                 0.0            0.0   \n",
       "4                                 0.0            0.0   \n",
       "\n",
       "   STDs:pelvic inflammatory disease  STDs:genital herpes  \\\n",
       "0                               0.0                  0.0   \n",
       "1                               0.0                  0.0   \n",
       "2                               0.0                  0.0   \n",
       "3                               0.0                  0.0   \n",
       "4                               0.0                  0.0   \n",
       "\n",
       "   STDs:molluscum contagiosum  STDs:HIV  STDs:Hepatitis B  STDs:HPV  \\\n",
       "0                         0.0       0.0               0.0       0.0   \n",
       "1                         0.0       0.0               0.0       0.0   \n",
       "2                         0.0       0.0               0.0       0.0   \n",
       "3                         0.0       0.0               0.0       0.0   \n",
       "4                         0.0       0.0               0.0       0.0   \n",
       "\n",
       "   Dx:Cancer  Dx:CIN  Dx:HPV   Dx  Hinselmann  Schiller  Citology  Biopsy  \\\n",
       "0        0.0     0.0     0.0  0.0         0.0       0.0       0.0     0.0   \n",
       "1        0.0     0.0     0.0  0.0         0.0       0.0       0.0     0.0   \n",
       "2        0.0     0.0     0.0  0.0         0.0       0.0       0.0     0.0   \n",
       "3        1.0     0.0     1.0  0.0         0.0       0.0       0.0     0.0   \n",
       "4        0.0     0.0     0.0  0.0         0.0       0.0       0.0     0.0   \n",
       "\n",
       "    Age  Number of sexual partners  First sexual intercourse  \\\n",
       "0  18.0                        4.0                      15.0   \n",
       "1  15.0                        1.0                      14.0   \n",
       "2  34.0                        1.0                      17.0   \n",
       "3  52.0                        5.0                      16.0   \n",
       "4  46.0                        3.0                      21.0   \n",
       "\n",
       "   Num of pregnancies  Smokes (years)  Smokes (packs/year)  \\\n",
       "0                 1.0             0.0                  0.0   \n",
       "1                 1.0             0.0                  0.0   \n",
       "2                 1.0             0.0                  0.0   \n",
       "3                 4.0            37.0                 37.0   \n",
       "4                 4.0             0.0                  0.0   \n",
       "\n",
       "   Hormonal Contraceptives (years)  IUD (years)  STDs (number)  \\\n",
       "0                              0.0          0.0            0.0   \n",
       "1                              0.0          0.0            0.0   \n",
       "2                              0.0          0.0            0.0   \n",
       "3                              3.0          0.0            0.0   \n",
       "4                             15.0          0.0            0.0   \n",
       "\n",
       "   STDs: Number of diagnosis  cancer  \n",
       "0                        0.0     0.0  \n",
       "1                        0.0     0.0  \n",
       "2                        0.0     0.0  \n",
       "3                        0.0     0.0  \n",
       "4                        0.0     0.0  "
      ]
     },
     "execution_count": 5,
     "metadata": {},
     "output_type": "execute_result"
    }
   ],
   "source": [
    "#adding up all the cancer diag columns and making a new Target column called cancer:\n",
    "\n",
    "\n",
    "for index, row in df.iterrows():\n",
    "    df[\"cancer\"] = df[\"Hinselmann\"] + df[\"Schiller\"] + df[\"Citology\"] + df[\"Biopsy\"]\n",
    "        \n",
    "df.head()"
   ]
  },
  {
   "cell_type": "code",
   "execution_count": 6,
   "id": "f8e45c02",
   "metadata": {},
   "outputs": [
    {
     "data": {
      "text/html": [
       "<div>\n",
       "<style scoped>\n",
       "    .dataframe tbody tr th:only-of-type {\n",
       "        vertical-align: middle;\n",
       "    }\n",
       "\n",
       "    .dataframe tbody tr th {\n",
       "        vertical-align: top;\n",
       "    }\n",
       "\n",
       "    .dataframe thead th {\n",
       "        text-align: right;\n",
       "    }\n",
       "</style>\n",
       "<table border=\"1\" class=\"dataframe\">\n",
       "  <thead>\n",
       "    <tr style=\"text-align: right;\">\n",
       "      <th></th>\n",
       "      <th>Unnamed: 0</th>\n",
       "      <th>Smokes</th>\n",
       "      <th>Hormonal Contraceptives</th>\n",
       "      <th>IUD</th>\n",
       "      <th>STDs</th>\n",
       "      <th>STDs:condylomatosis</th>\n",
       "      <th>STDs:vaginal condylomatosis</th>\n",
       "      <th>STDs:vulvo-perineal condylomatosis</th>\n",
       "      <th>STDs:syphilis</th>\n",
       "      <th>STDs:pelvic inflammatory disease</th>\n",
       "      <th>STDs:genital herpes</th>\n",
       "      <th>STDs:molluscum contagiosum</th>\n",
       "      <th>STDs:HIV</th>\n",
       "      <th>STDs:Hepatitis B</th>\n",
       "      <th>STDs:HPV</th>\n",
       "      <th>Dx:Cancer</th>\n",
       "      <th>Dx:CIN</th>\n",
       "      <th>Dx:HPV</th>\n",
       "      <th>Dx</th>\n",
       "      <th>Hinselmann</th>\n",
       "      <th>Schiller</th>\n",
       "      <th>Citology</th>\n",
       "      <th>Biopsy</th>\n",
       "      <th>Age</th>\n",
       "      <th>Number of sexual partners</th>\n",
       "      <th>First sexual intercourse</th>\n",
       "      <th>Num of pregnancies</th>\n",
       "      <th>Smokes (years)</th>\n",
       "      <th>Smokes (packs/year)</th>\n",
       "      <th>Hormonal Contraceptives (years)</th>\n",
       "      <th>IUD (years)</th>\n",
       "      <th>STDs (number)</th>\n",
       "      <th>STDs: Number of diagnosis</th>\n",
       "      <th>cancer</th>\n",
       "    </tr>\n",
       "  </thead>\n",
       "  <tbody>\n",
       "    <tr>\n",
       "      <th>0</th>\n",
       "      <td>0</td>\n",
       "      <td>0.0</td>\n",
       "      <td>0.0</td>\n",
       "      <td>0.0</td>\n",
       "      <td>0.0</td>\n",
       "      <td>0.0</td>\n",
       "      <td>0.0</td>\n",
       "      <td>0.0</td>\n",
       "      <td>0.0</td>\n",
       "      <td>0.0</td>\n",
       "      <td>0.0</td>\n",
       "      <td>0.0</td>\n",
       "      <td>0.0</td>\n",
       "      <td>0.0</td>\n",
       "      <td>0.0</td>\n",
       "      <td>0.0</td>\n",
       "      <td>0.0</td>\n",
       "      <td>0.0</td>\n",
       "      <td>0.0</td>\n",
       "      <td>0.0</td>\n",
       "      <td>0.0</td>\n",
       "      <td>0.0</td>\n",
       "      <td>0.0</td>\n",
       "      <td>18.0</td>\n",
       "      <td>4.0</td>\n",
       "      <td>15.0</td>\n",
       "      <td>1.0</td>\n",
       "      <td>0.0</td>\n",
       "      <td>0.0</td>\n",
       "      <td>0.0</td>\n",
       "      <td>0.0</td>\n",
       "      <td>0.0</td>\n",
       "      <td>0.0</td>\n",
       "      <td>0.0</td>\n",
       "    </tr>\n",
       "    <tr>\n",
       "      <th>1</th>\n",
       "      <td>1</td>\n",
       "      <td>0.0</td>\n",
       "      <td>0.0</td>\n",
       "      <td>0.0</td>\n",
       "      <td>0.0</td>\n",
       "      <td>0.0</td>\n",
       "      <td>0.0</td>\n",
       "      <td>0.0</td>\n",
       "      <td>0.0</td>\n",
       "      <td>0.0</td>\n",
       "      <td>0.0</td>\n",
       "      <td>0.0</td>\n",
       "      <td>0.0</td>\n",
       "      <td>0.0</td>\n",
       "      <td>0.0</td>\n",
       "      <td>0.0</td>\n",
       "      <td>0.0</td>\n",
       "      <td>0.0</td>\n",
       "      <td>0.0</td>\n",
       "      <td>0.0</td>\n",
       "      <td>0.0</td>\n",
       "      <td>0.0</td>\n",
       "      <td>0.0</td>\n",
       "      <td>15.0</td>\n",
       "      <td>1.0</td>\n",
       "      <td>14.0</td>\n",
       "      <td>1.0</td>\n",
       "      <td>0.0</td>\n",
       "      <td>0.0</td>\n",
       "      <td>0.0</td>\n",
       "      <td>0.0</td>\n",
       "      <td>0.0</td>\n",
       "      <td>0.0</td>\n",
       "      <td>0.0</td>\n",
       "    </tr>\n",
       "    <tr>\n",
       "      <th>2</th>\n",
       "      <td>2</td>\n",
       "      <td>0.0</td>\n",
       "      <td>0.0</td>\n",
       "      <td>0.0</td>\n",
       "      <td>0.0</td>\n",
       "      <td>0.0</td>\n",
       "      <td>0.0</td>\n",
       "      <td>0.0</td>\n",
       "      <td>0.0</td>\n",
       "      <td>0.0</td>\n",
       "      <td>0.0</td>\n",
       "      <td>0.0</td>\n",
       "      <td>0.0</td>\n",
       "      <td>0.0</td>\n",
       "      <td>0.0</td>\n",
       "      <td>0.0</td>\n",
       "      <td>0.0</td>\n",
       "      <td>0.0</td>\n",
       "      <td>0.0</td>\n",
       "      <td>0.0</td>\n",
       "      <td>0.0</td>\n",
       "      <td>0.0</td>\n",
       "      <td>0.0</td>\n",
       "      <td>34.0</td>\n",
       "      <td>1.0</td>\n",
       "      <td>17.0</td>\n",
       "      <td>1.0</td>\n",
       "      <td>0.0</td>\n",
       "      <td>0.0</td>\n",
       "      <td>0.0</td>\n",
       "      <td>0.0</td>\n",
       "      <td>0.0</td>\n",
       "      <td>0.0</td>\n",
       "      <td>0.0</td>\n",
       "    </tr>\n",
       "    <tr>\n",
       "      <th>3</th>\n",
       "      <td>3</td>\n",
       "      <td>1.0</td>\n",
       "      <td>1.0</td>\n",
       "      <td>0.0</td>\n",
       "      <td>0.0</td>\n",
       "      <td>0.0</td>\n",
       "      <td>0.0</td>\n",
       "      <td>0.0</td>\n",
       "      <td>0.0</td>\n",
       "      <td>0.0</td>\n",
       "      <td>0.0</td>\n",
       "      <td>0.0</td>\n",
       "      <td>0.0</td>\n",
       "      <td>0.0</td>\n",
       "      <td>0.0</td>\n",
       "      <td>1.0</td>\n",
       "      <td>0.0</td>\n",
       "      <td>1.0</td>\n",
       "      <td>0.0</td>\n",
       "      <td>0.0</td>\n",
       "      <td>0.0</td>\n",
       "      <td>0.0</td>\n",
       "      <td>0.0</td>\n",
       "      <td>52.0</td>\n",
       "      <td>5.0</td>\n",
       "      <td>16.0</td>\n",
       "      <td>4.0</td>\n",
       "      <td>37.0</td>\n",
       "      <td>37.0</td>\n",
       "      <td>3.0</td>\n",
       "      <td>0.0</td>\n",
       "      <td>0.0</td>\n",
       "      <td>0.0</td>\n",
       "      <td>0.0</td>\n",
       "    </tr>\n",
       "    <tr>\n",
       "      <th>4</th>\n",
       "      <td>4</td>\n",
       "      <td>0.0</td>\n",
       "      <td>1.0</td>\n",
       "      <td>0.0</td>\n",
       "      <td>0.0</td>\n",
       "      <td>0.0</td>\n",
       "      <td>0.0</td>\n",
       "      <td>0.0</td>\n",
       "      <td>0.0</td>\n",
       "      <td>0.0</td>\n",
       "      <td>0.0</td>\n",
       "      <td>0.0</td>\n",
       "      <td>0.0</td>\n",
       "      <td>0.0</td>\n",
       "      <td>0.0</td>\n",
       "      <td>0.0</td>\n",
       "      <td>0.0</td>\n",
       "      <td>0.0</td>\n",
       "      <td>0.0</td>\n",
       "      <td>0.0</td>\n",
       "      <td>0.0</td>\n",
       "      <td>0.0</td>\n",
       "      <td>0.0</td>\n",
       "      <td>46.0</td>\n",
       "      <td>3.0</td>\n",
       "      <td>21.0</td>\n",
       "      <td>4.0</td>\n",
       "      <td>0.0</td>\n",
       "      <td>0.0</td>\n",
       "      <td>15.0</td>\n",
       "      <td>0.0</td>\n",
       "      <td>0.0</td>\n",
       "      <td>0.0</td>\n",
       "      <td>0.0</td>\n",
       "    </tr>\n",
       "  </tbody>\n",
       "</table>\n",
       "</div>"
      ],
      "text/plain": [
       "   Unnamed: 0  Smokes  Hormonal Contraceptives  IUD  STDs  \\\n",
       "0           0     0.0                      0.0  0.0   0.0   \n",
       "1           1     0.0                      0.0  0.0   0.0   \n",
       "2           2     0.0                      0.0  0.0   0.0   \n",
       "3           3     1.0                      1.0  0.0   0.0   \n",
       "4           4     0.0                      1.0  0.0   0.0   \n",
       "\n",
       "   STDs:condylomatosis  STDs:vaginal condylomatosis  \\\n",
       "0                  0.0                          0.0   \n",
       "1                  0.0                          0.0   \n",
       "2                  0.0                          0.0   \n",
       "3                  0.0                          0.0   \n",
       "4                  0.0                          0.0   \n",
       "\n",
       "   STDs:vulvo-perineal condylomatosis  STDs:syphilis  \\\n",
       "0                                 0.0            0.0   \n",
       "1                                 0.0            0.0   \n",
       "2                                 0.0            0.0   \n",
       "3                                 0.0            0.0   \n",
       "4                                 0.0            0.0   \n",
       "\n",
       "   STDs:pelvic inflammatory disease  STDs:genital herpes  \\\n",
       "0                               0.0                  0.0   \n",
       "1                               0.0                  0.0   \n",
       "2                               0.0                  0.0   \n",
       "3                               0.0                  0.0   \n",
       "4                               0.0                  0.0   \n",
       "\n",
       "   STDs:molluscum contagiosum  STDs:HIV  STDs:Hepatitis B  STDs:HPV  \\\n",
       "0                         0.0       0.0               0.0       0.0   \n",
       "1                         0.0       0.0               0.0       0.0   \n",
       "2                         0.0       0.0               0.0       0.0   \n",
       "3                         0.0       0.0               0.0       0.0   \n",
       "4                         0.0       0.0               0.0       0.0   \n",
       "\n",
       "   Dx:Cancer  Dx:CIN  Dx:HPV   Dx  Hinselmann  Schiller  Citology  Biopsy  \\\n",
       "0        0.0     0.0     0.0  0.0         0.0       0.0       0.0     0.0   \n",
       "1        0.0     0.0     0.0  0.0         0.0       0.0       0.0     0.0   \n",
       "2        0.0     0.0     0.0  0.0         0.0       0.0       0.0     0.0   \n",
       "3        1.0     0.0     1.0  0.0         0.0       0.0       0.0     0.0   \n",
       "4        0.0     0.0     0.0  0.0         0.0       0.0       0.0     0.0   \n",
       "\n",
       "    Age  Number of sexual partners  First sexual intercourse  \\\n",
       "0  18.0                        4.0                      15.0   \n",
       "1  15.0                        1.0                      14.0   \n",
       "2  34.0                        1.0                      17.0   \n",
       "3  52.0                        5.0                      16.0   \n",
       "4  46.0                        3.0                      21.0   \n",
       "\n",
       "   Num of pregnancies  Smokes (years)  Smokes (packs/year)  \\\n",
       "0                 1.0             0.0                  0.0   \n",
       "1                 1.0             0.0                  0.0   \n",
       "2                 1.0             0.0                  0.0   \n",
       "3                 4.0            37.0                 37.0   \n",
       "4                 4.0             0.0                  0.0   \n",
       "\n",
       "   Hormonal Contraceptives (years)  IUD (years)  STDs (number)  \\\n",
       "0                              0.0          0.0            0.0   \n",
       "1                              0.0          0.0            0.0   \n",
       "2                              0.0          0.0            0.0   \n",
       "3                              3.0          0.0            0.0   \n",
       "4                             15.0          0.0            0.0   \n",
       "\n",
       "   STDs: Number of diagnosis  cancer  \n",
       "0                        0.0     0.0  \n",
       "1                        0.0     0.0  \n",
       "2                        0.0     0.0  \n",
       "3                        0.0     0.0  \n",
       "4                        0.0     0.0  "
      ]
     },
     "execution_count": 6,
     "metadata": {},
     "output_type": "execute_result"
    }
   ],
   "source": [
    "## Creating a conditional column 'cancer' which is an integrated column from \n",
    "#all the 4 tests ---> 1.0 when positive from any of the tests.\n",
    "\n",
    "\n",
    "df[\"cancer\"] = df.apply(lambda row: 0.0 if row.cancer == 0.0 else 1.0, axis=1)\n",
    "\n",
    "df.head()"
   ]
  },
  {
   "cell_type": "code",
   "execution_count": 7,
   "id": "e5a274a7",
   "metadata": {},
   "outputs": [
    {
     "data": {
      "image/png": "[encoded data removed]",
      "text/plain": [
       "<Figure size 700x350 with 1 Axes>"
      ]
     },
     "metadata": {
      "needs_background": "light"
     },
     "output_type": "display_data"
    }
   ],
   "source": [
    "#Target Distribution:\n",
    "\n",
    "c=df['cancer'].value_counts(normalize=True)\n",
    "\n",
    "#plot:\n",
    "\n",
    "plt.figure(figsize=(10,5), dpi=70)\n",
    "sns.barplot(c.index, c.values*100)\n",
    "plt.ylabel ('Target/Cancer Diagnosed count (%)')\n",
    "plt.xlabel ('Cancer')\n",
    "labels = (\"Cancer= No\", \"Cancer= Yes\")\n",
    "plt.xticks([0,1], labels)\n",
    "plt.title ('distribution of Target  - Imbalanced Data')\n",
    "plt.show()"
   ]
  },
  {
   "cell_type": "code",
   "execution_count": 8,
   "id": "978bab82-b3b1-4477-82ad-2ec7960b4ac2",
   "metadata": {},
   "outputs": [
    {
     "data": {
      "text/plain": [
       "(763, 29)"
      ]
     },
     "execution_count": 8,
     "metadata": {},
     "output_type": "execute_result"
    }
   ],
   "source": [
    "#Drop unnecessary columns:\n",
    "\n",
    "\n",
    "df.drop(['Unnamed: 0', 'Hinselmann', 'Schiller', 'Citology', 'Biopsy'], axis=1, inplace=True)\n",
    "df.shape"
   ]
  },
  {
   "cell_type": "code",
   "execution_count": 9,
   "id": "761de04b",
   "metadata": {},
   "outputs": [],
   "source": [
    "# Dividing the dataframe into two - cancer= 0/1:\n",
    "\n",
    "df_can= df[df['cancer']==1]\n",
    "df_nc= df[df['cancer']==0]"
   ]
  },
  {
   "cell_type": "code",
   "execution_count": 10,
   "id": "c3baaf14",
   "metadata": {},
   "outputs": [
    {
     "data": {
      "image/png": "[encoded data removed]",
      "text/plain": [
       "<Figure size 720x360 with 1 Axes>"
      ]
     },
     "metadata": {
      "needs_background": "light"
     },
     "output_type": "display_data"
    },
    {
     "data": {
      "image/png": "[encoded data removed]",
      "text/plain": [
       "<Figure size 720x360 with 1 Axes>"
      ]
     },
     "metadata": {
      "needs_background": "light"
     },
     "output_type": "display_data"
    }
   ],
   "source": [
    "#Smoke:\n",
    "\n",
    "plt.figure(figsize=(10,5))\n",
    "sns.countplot(x=df['Smokes'], hue= df['cancer'])\n",
    "plt.show()\n",
    "\n",
    "\n",
    "plt.figure(figsize=(10,5))\n",
    "sns.histplot(x = df['Smokes'], hue=df['cancer'], multiple=\"dodge\", \n",
    "             stat = 'density', common_norm=False)\n",
    "plt.show()\n",
    "\n",
    "\n"
   ]
  },
  {
   "cell_type": "code",
   "execution_count": 11,
   "id": "0c94165b",
   "metadata": {},
   "outputs": [
    {
     "data": {
      "image/png": "[encoded data removed]",
      "text/plain": [
       "<Figure size 720x360 with 1 Axes>"
      ]
     },
     "metadata": {
      "needs_background": "light"
     },
     "output_type": "display_data"
    }
   ],
   "source": [
    "x,y = 'Smokes', 'cancer'\n",
    "\n",
    "plt.figure(figsize=(10,5))\n",
    "d=df.groupby(x)[y].value_counts(normalize=True).mul(100).rename('percent').reset_index()\n",
    "sns.barplot(x=d.Smokes, y=d.percent, hue= d.cancer)\n",
    "plt.show()\n"
   ]
  },
  {
   "cell_type": "code",
   "execution_count": 12,
   "id": "a8d2f0db",
   "metadata": {},
   "outputs": [
    {
     "data": {
      "image/png": "[encoded data removed]",
      "text/plain": [
       "<Figure size 720x360 with 1 Axes>"
      ]
     },
     "metadata": {
      "needs_background": "light"
     },
     "output_type": "display_data"
    }
   ],
   "source": [
    "#Hormonal Contraceptives:\n",
    "\n",
    "plt.figure(figsize=(10,5))\n",
    "sns.countplot(x=df['Hormonal Contraceptives'], hue= df['cancer'])\n",
    "plt.show()"
   ]
  },
  {
   "cell_type": "code",
   "execution_count": 13,
   "id": "736e7809",
   "metadata": {},
   "outputs": [
    {
     "data": {
      "image/png": "[encoded data removed]",
      "text/plain": [
       "<Figure size 720x360 with 1 Axes>"
      ]
     },
     "metadata": {
      "needs_background": "light"
     },
     "output_type": "display_data"
    }
   ],
   "source": [
    "#Smokes (years):\n",
    "\n",
    "plt.figure(figsize=(10,5))\n",
    "#_=sns.histplot(x=df_nc['Smokes (years)'], color='b', alpha=0.6)\n",
    "#_=sns.histplot(x=df_can['Smokes (years)'], color='r')\n",
    "sns.kdeplot(x = 'Smokes (years)', hue = 'cancer', data = df, fill=True, palette=\"dark\")\n",
    "plt.show()"
   ]
  },
  {
   "cell_type": "code",
   "execution_count": 14,
   "id": "f9c184c3-7c2f-4433-870b-5df62f13febc",
   "metadata": {},
   "outputs": [
    {
     "data": {
      "text/plain": [
       "((763, 19), (763, 10))"
      ]
     },
     "execution_count": 14,
     "metadata": {},
     "output_type": "execute_result"
    }
   ],
   "source": [
    "df_binary = df.loc[:,df.nunique() <=2]\n",
    "df_nonbinary = df.loc[:,df.nunique() > 2]\n",
    "df_binary.shape,df_nonbinary.shape"
   ]
  },
  {
   "cell_type": "code",
   "execution_count": 15,
   "id": "904bd655-bddc-43b2-9948-c5618430b303",
   "metadata": {},
   "outputs": [
    {
     "data": {
      "image/png": "[encoded data removed]",
      "text/plain": [
       "<Figure size 720x360 with 2 Axes>"
      ]
     },
     "metadata": {
      "needs_background": "light"
     },
     "output_type": "display_data"
    }
   ],
   "source": [
    "#Age vs Smokes per year leading to cervical cancer\n",
    "sns.relplot(x = df['Age'], y = df ['Smokes (years)'], data = df, kind = 'scatter', col = df['cancer'])\n",
    "plt.show()"
   ]
  },
  {
   "cell_type": "code",
   "execution_count": 16,
   "id": "dade49e5-f528-4669-a3d4-1d1a80576bd6",
   "metadata": {},
   "outputs": [
    {
     "data": {
      "image/png": "[encoded data removed]",
      "text/plain": [
       "<Figure size 720x360 with 1 Axes>"
      ]
     },
     "metadata": {
      "needs_background": "light"
     },
     "output_type": "display_data"
    },
    {
     "data": {
      "image/png": "[encoded data removed]",
      "text/plain": [
       "<Figure size 720x360 with 1 Axes>"
      ]
     },
     "metadata": {
      "needs_background": "light"
     },
     "output_type": "display_data"
    }
   ],
   "source": [
    "#age vs cancer distribution\n",
    "plt.figure(figsize=(10,5))\n",
    "_=plt.hist(df_nc['Age'], color='b', alpha=0.6)\n",
    "_=plt.hist(df_can['Age'], color='r')\n",
    "plt.show()\n",
    "\n",
    "\n",
    "plt.figure(figsize=(10,5))\n",
    "sns.kdeplot(x = 'Age', hue = 'cancer', data = df, fill=True)\n",
    "plt.show()"
   ]
  },
  {
   "cell_type": "code",
   "execution_count": 17,
   "id": "72b4bb4f-a695-497e-8bcd-1870494fb657",
   "metadata": {},
   "outputs": [
    {
     "name": "stdout",
     "output_type": "stream",
     "text": [
      "<class 'pandas.core.frame.DataFrame'>\n",
      "RangeIndex: 763 entries, 0 to 762\n",
      "Data columns (total 29 columns):\n",
      " #   Column                              Non-Null Count  Dtype  \n",
      "---  ------                              --------------  -----  \n",
      " 0   Smokes                              763 non-null    float64\n",
      " 1   Hormonal Contraceptives             763 non-null    float64\n",
      " 2   IUD                                 763 non-null    float64\n",
      " 3   STDs                                763 non-null    float64\n",
      " 4   STDs:condylomatosis                 763 non-null    float64\n",
      " 5   STDs:vaginal condylomatosis         763 non-null    float64\n",
      " 6   STDs:vulvo-perineal condylomatosis  763 non-null    float64\n",
      " 7   STDs:syphilis                       763 non-null    float64\n",
      " 8   STDs:pelvic inflammatory disease    763 non-null    float64\n",
      " 9   STDs:genital herpes                 763 non-null    float64\n",
      " 10  STDs:molluscum contagiosum          763 non-null    float64\n",
      " 11  STDs:HIV                            763 non-null    float64\n",
      " 12  STDs:Hepatitis B                    763 non-null    float64\n",
      " 13  STDs:HPV                            763 non-null    float64\n",
      " 14  Dx:Cancer                           763 non-null    float64\n",
      " 15  Dx:CIN                              763 non-null    float64\n",
      " 16  Dx:HPV                              763 non-null    float64\n",
      " 17  Dx                                  763 non-null    float64\n",
      " 18  Age                                 763 non-null    float64\n",
      " 19  Number of sexual partners           763 non-null    float64\n",
      " 20  First sexual intercourse            763 non-null    float64\n",
      " 21  Num of pregnancies                  763 non-null    float64\n",
      " 22  Smokes (years)                      763 non-null    float64\n",
      " 23  Smokes (packs/year)                 763 non-null    float64\n",
      " 24  Hormonal Contraceptives (years)     763 non-null    float64\n",
      " 25  IUD (years)                         763 non-null    float64\n",
      " 26  STDs (number)                       763 non-null    float64\n",
      " 27  STDs: Number of diagnosis           763 non-null    float64\n",
      " 28  cancer                              763 non-null    float64\n",
      "dtypes: float64(29)\n",
      "memory usage: 173.0 KB\n"
     ]
    }
   ],
   "source": [
    "df.info()"
   ]
  },
  {
   "cell_type": "code",
   "execution_count": 18,
   "id": "57937bb1-cf89-4376-bc6d-b07a7c0ebd51",
   "metadata": {},
   "outputs": [
    {
     "data": {
      "image/png": "[encoded data removed]",
      "text/plain": [
       "<Figure size 720x360 with 1 Axes>"
      ]
     },
     "metadata": {
      "needs_background": "light"
     },
     "output_type": "display_data"
    }
   ],
   "source": [
    "#age vs cancer countplots\n",
    "plt.figure(figsize=(10,5))\n",
    "sns.countplot(x = df['Age'], hue = df['cancer'], data =df )\n",
    "plt.xticks(rotation=90)\n",
    "plt.show()"
   ]
  },
  {
   "cell_type": "code",
   "execution_count": 19,
   "id": "07eab225-cae6-4aaa-9632-f1f2d6349fba",
   "metadata": {},
   "outputs": [
    {
     "data": {
      "image/png": "[encoded data removed]",
      "text/plain": [
       "<Figure size 832x360 with 2 Axes>"
      ]
     },
     "metadata": {
      "needs_background": "light"
     },
     "output_type": "display_data"
    }
   ],
   "source": [
    "sns.relplot(x = df['Age'], y = df ['Smokes (years)'], data = df, kind = 'scatter',size = df['Smokes (packs/year)'], col = df['cancer'])\n",
    "plt.show()"
   ]
  },
  {
   "cell_type": "code",
   "execution_count": 20,
   "id": "dc66c5af-3122-42f4-b61f-bbbb41ea3185",
   "metadata": {},
   "outputs": [
    {
     "data": {
      "image/png": "[encoded data removed]",
      "text/plain": [
       "<Figure size 432x288 with 1 Axes>"
      ]
     },
     "metadata": {
      "needs_background": "light"
     },
     "output_type": "display_data"
    },
    {
     "data": {
      "text/plain": [
       "<Figure size 720x720 with 0 Axes>"
      ]
     },
     "metadata": {},
     "output_type": "display_data"
    }
   ],
   "source": [
    "fig,ax=plt.subplots()\n",
    "plt.figure(figsize = (10,10))\n",
    "ax.boxplot([df_can['Age'],df_nc['Age']])\n",
    "ax.set_xticklabels([\"Cancer\",\"Not cancer\"])\n",
    "plt.show()"
   ]
  },
  {
   "cell_type": "code",
   "execution_count": 21,
   "id": "0a62379a-2f83-4e27-be46-bf402e70ab40",
   "metadata": {},
   "outputs": [
    {
     "data": {
      "image/png": "[encoded data removed]",
      "text/plain": [
       "<Figure size 432x288 with 1 Axes>"
      ]
     },
     "metadata": {
      "needs_background": "light"
     },
     "output_type": "display_data"
    },
    {
     "data": {
      "text/plain": [
       "<Figure size 720x360 with 0 Axes>"
      ]
     },
     "metadata": {},
     "output_type": "display_data"
    }
   ],
   "source": [
    "#age vs cancer boxplots\n",
    "fig,ax=plt.subplots()\n",
    "plt.figure(figsize=(10,5))\n",
    "ax.boxplot([df_can['Number of sexual partners'],df_nc['Number of sexual partners']],\"\")\n",
    "ax.set_xticklabels([\"Cancer\",\"Not cancer\"])\n",
    "plt.show()"
   ]
  },
  {
   "cell_type": "code",
   "execution_count": 22,
   "id": "38263a00-fb3a-4309-84bf-0ced077c1782",
   "metadata": {},
   "outputs": [
    {
     "data": {
      "image/png": "[encoded data removed]",
      "text/plain": [
       "<Figure size 432x288 with 1 Axes>"
      ]
     },
     "metadata": {
      "needs_background": "light"
     },
     "output_type": "display_data"
    },
    {
     "data": {
      "text/plain": [
       "<Figure size 720x360 with 0 Axes>"
      ]
     },
     "metadata": {},
     "output_type": "display_data"
    }
   ],
   "source": [
    "#first sexual intercourse vs cancer boxplot\n",
    "fig,ax=plt.subplots()\n",
    "plt.figure(figsize = (10,5))\n",
    "ax.boxplot([df_can['First sexual intercourse'],df_nc['First sexual intercourse']],\"\")\n",
    "ax.set_xticklabels([\"Cancer\",\"Not cancer\"])\n",
    "plt.show()"
   ]
  },
  {
   "cell_type": "code",
   "execution_count": 23,
   "id": "e096a97e-135e-4d41-8fb7-5dd8d331dc40",
   "metadata": {},
   "outputs": [
    {
     "data": {
      "image/png": "[encoded data removed]",
      "text/plain": [
       "<Figure size 432x288 with 2 Axes>"
      ]
     },
     "metadata": {
      "needs_background": "light"
     },
     "output_type": "display_data"
    },
    {
     "data": {
      "text/plain": [
       "<Figure size 1440x1800 with 0 Axes>"
      ]
     },
     "metadata": {},
     "output_type": "display_data"
    }
   ],
   "source": [
    "#countplots of 2 different STDs with cancer\n",
    "fig,ax = plt.subplots(2,1)\n",
    "plt.figure(figsize=(20,25))\n",
    "sns.countplot(x=df_binary['STDs:vaginal condylomatosis'], hue= df_binary['cancer'],ax = ax[0])\n",
    "sns.countplot(x=df_binary['STDs:HPV'], hue= df_binary['cancer'],ax = ax[1])\n",
    "plt.show()"
   ]
  },
  {
   "cell_type": "code",
   "execution_count": 24,
   "id": "d251cc53-873e-4581-80fa-ff7262481979",
   "metadata": {},
   "outputs": [
    {
     "name": "stdout",
     "output_type": "stream",
     "text": [
      "<class 'pandas.core.frame.DataFrame'>\n",
      "Int64Index: 100 entries, 6 to 760\n",
      "Data columns (total 19 columns):\n",
      " #   Column                              Non-Null Count  Dtype  \n",
      "---  ------                              --------------  -----  \n",
      " 0   Smokes                              100 non-null    float64\n",
      " 1   Hormonal Contraceptives             100 non-null    float64\n",
      " 2   IUD                                 100 non-null    float64\n",
      " 3   STDs                                100 non-null    float64\n",
      " 4   STDs:condylomatosis                 100 non-null    float64\n",
      " 5   STDs:vaginal condylomatosis         100 non-null    float64\n",
      " 6   STDs:vulvo-perineal condylomatosis  100 non-null    float64\n",
      " 7   STDs:syphilis                       100 non-null    float64\n",
      " 8   STDs:pelvic inflammatory disease    100 non-null    float64\n",
      " 9   STDs:genital herpes                 100 non-null    float64\n",
      " 10  STDs:molluscum contagiosum          100 non-null    float64\n",
      " 11  STDs:HIV                            100 non-null    float64\n",
      " 12  STDs:Hepatitis B                    100 non-null    float64\n",
      " 13  STDs:HPV                            100 non-null    float64\n",
      " 14  Dx:Cancer                           100 non-null    float64\n",
      " 15  Dx:CIN                              100 non-null    float64\n",
      " 16  Dx:HPV                              100 non-null    float64\n",
      " 17  Dx                                  100 non-null    float64\n",
      " 18  cancer                              100 non-null    float64\n",
      "dtypes: float64(19)\n",
      "memory usage: 15.6 KB\n"
     ]
    }
   ],
   "source": [
    "#subsetting a dataframe with just cancer diagnosed patients\n",
    "df_can_binary = df_can.loc[:,df_can.nunique() <=2]\n",
    "df_can_binary.info()"
   ]
  },
  {
   "cell_type": "code",
   "execution_count": 25,
   "id": "54622552-1128-4b4c-9c37-e4f453e913a5",
   "metadata": {},
   "outputs": [
    {
     "data": {
      "image/png": "[encoded data removed]",
      "text/plain": [
       "<Figure size 1440x1440 with 1 Axes>"
      ]
     },
     "metadata": {
      "needs_background": "light"
     },
     "output_type": "display_data"
    }
   ],
   "source": [
    "#countplot of diagnosed people with different binary risk factors\n",
    "plt.figure(figsize=(20,20))\n",
    "sns.countplot(x='variable',hue='value', data=pd.melt(df_can_binary))\n",
    "plt.xticks(rotation=90)\n",
    "plt.show()"
   ]
  },
  {
   "cell_type": "code",
   "execution_count": 31,
   "id": "19ea4123-f9c4-424c-8e7a-a36c3910c551",
   "metadata": {},
   "outputs": [
    {
     "data": {
      "image/png": "[encoded data removed]",
      "text/plain": [
       "<Figure size 360x720 with 2 Axes>"
      ]
     },
     "metadata": {
      "needs_background": "light"
     },
     "output_type": "display_data"
    }
   ],
   "source": [
    "#boxplot of age, cancer and stds\n",
    "ax = sns.catplot(x = \"Age\",y = \"cancer\", row = \"STDs\", data = df, kind =\"box\", orient = \"h\")\n",
    "plt.xticks(rotation=90)\n",
    "plt.show()"
   ]
  },
  {
   "cell_type": "code",
   "execution_count": 34,
   "id": "944be971-fdfb-43c3-b5fe-6fad1ef276e7",
   "metadata": {},
   "outputs": [
    {
     "data": {
      "image/png": "[encoded data removed]",
      "text/plain": [
       "<Figure size 360x720 with 2 Axes>"
      ]
     },
     "metadata": {
      "needs_background": "light"
     },
     "output_type": "display_data"
    }
   ],
   "source": [
    "#boxplot of sexual intercourse vs cancer vs STDs\n",
    "ax = sns.catplot(x = \"First sexual intercourse\",y = \"cancer\", row = \"STDs\", data = df, kind =\"box\", orient = \"h\")\n",
    "plt.show()"
   ]
  },
  {
   "cell_type": "code",
   "execution_count": 35,
   "id": "b85eee79-54fe-47b6-90be-ad6330c3c00e",
   "metadata": {},
   "outputs": [
    {
     "data": {
      "image/png": "[encoded data removed]",
      "text/plain": [
       "<Figure size 360x720 with 2 Axes>"
      ]
     },
     "metadata": {
      "needs_background": "light"
     },
     "output_type": "display_data"
    }
   ],
   "source": [
    "#age vs cancer vs smoking boxplot\n",
    "ax = sns.catplot(x = \"Age\",y = \"cancer\", row = \"Smokes\", data = df, kind =\"box\", orient = \"h\")\n",
    "plt.xticks(rotation=90)\n",
    "plt.show()"
   ]
  },
  {
   "cell_type": "code",
   "execution_count": 37,
   "id": "92844f25-1c17-404b-9ced-526689bdf6f6",
   "metadata": {},
   "outputs": [
    {
     "data": {
      "image/png": "[encoded data removed]",
      "text/plain": [
       "<Figure size 360x720 with 2 Axes>"
      ]
     },
     "metadata": {
      "needs_background": "light"
     },
     "output_type": "display_data"
    }
   ],
   "source": [
    "#age vs cancer vs usage of hormonal contraceptives boxplot\n",
    "ax = sns.catplot(x = \"Age\",y = \"cancer\", row = \"Hormonal Contraceptives\", data = df, kind =\"box\", orient = \"h\")\n",
    "plt.xticks(rotation=90)\n",
    "plt.show()"
   ]
  },
  {
   "cell_type": "markdown",
   "id": "e563aad9-635d-48bd-9378-5e44cc77a1b8",
   "metadata": {},
   "source": [
    "**Some of the major factors to explore based on the EDA**\n",
    " - Diagnosis of STDs (whether diagnosed or not especially HPVs)\n",
    " - First sexual intercourse (age)\n",
    " - Age (since has a tendency to happen in women in their 30s from the boxplots)\n",
    " - Previously diagnosed or not \n",
    " - Smokes\n",
    " - Usage of hormonal contraceptives"
   ]
  }
 ],
 "metadata": {
  "kernelspec": {
   "display_name": "Python 3",
   "language": "python",
   "name": "python3"
  },
  "language_info": {
   "codemirror_mode": {
    "name": "ipython",
    "version": 3
   },
   "file_extension": ".py",
   "mimetype": "text/x-python",
   "name": "python",
   "nbconvert_exporter": "python",
   "pygments_lexer": "ipython3",
   "version": "3.8.8"
  }
 },
 "nbformat": 4,
 "nbformat_minor": 5
}
